{
 "cells": [
  {
   "cell_type": "code",
   "execution_count": 2,
   "metadata": {},
   "outputs": [
    {
     "name": "stdout",
     "output_type": "stream",
     "text": [
      "['/Users/richardlu/Engineering/pynetrunner', '/Library/Frameworks/Python.framework/Versions/3.12/lib/python312.zip', '/Library/Frameworks/Python.framework/Versions/3.12/lib/python3.12', '/Library/Frameworks/Python.framework/Versions/3.12/lib/python3.12/lib-dynload', '', '/Users/richardlu/Engineering/pynetrunner/.venv/lib/python3.12/site-packages']\n"
     ]
    }
   ],
   "source": [
    "# imports\n",
    "from pathlib import Path\n",
    "import sys  \n",
    "import json\n",
    "\n",
    "# Get my_package directory path from Notebook\n",
    "parent_dir = str(Path().resolve().parents[2])\n",
    "\n",
    "# Add to sys.path\n",
    "sys.path.insert(0, parent_dir)\n",
    "print(sys.path)\n",
    "\n",
    "from src.cards.card_registry import CardRegistry"
   ]
  },
  {
   "cell_type": "code",
   "execution_count": 5,
   "metadata": {},
   "outputs": [
    {
     "name": "stdout",
     "output_type": "stream",
     "text": [
      "Loaded 113 cards from ../../../assets/cards/core_set.json\n",
      "Loaded 4 card effects from ../../../assets/cards/card_effects.json\n"
     ]
    }
   ],
   "source": [
    "registry = CardRegistry()\n",
    "registry.load_cards_from_json('../../../assets/cards/core_set.json', '../../../assets/cards/card_effects.json')\n"
   ]
  },
  {
   "cell_type": "code",
   "execution_count": 8,
   "metadata": {},
   "outputs": [
    {
     "name": "stdout",
     "output_type": "stream",
     "text": [
      "ID: kate_mac_mccaffrey_digital_tinker\n",
      "Name: Kate \"Mac\" McCaffrey: Digital Tinker\n",
      "Type: runner_identity\n",
      "Text: Lower the install cost of the first program or piece of hardware you install each turn by 1.\n",
      "Cost: None\n",
      "Faction: shaper\n",
      "Side: runner\n",
      "Strength: None\n",
      "Stripped Text: Lower the install cost of the first program or piece of hardware you install each turn by 1.\n",
      "Is Unique: False\n",
      "Subtypes: natural\n",
      "Influence Cost: None\n",
      "Base Link: 1\n",
      "Deck Limit: 1\n",
      "Influence Limit: 15\n",
      "Advancement Requirement: None\n",
      "Agenda Points: None\n",
      "Trash Cost: None\n",
      "Memory Cost: None\n",
      "Date Release: 2012-09-06\n",
      "Minimum Deck Size: 45\n",
      "Display Subtypes: Natural\n",
      "  Additional Cost: False\n",
      "  Advanceable: False\n",
      "  Gains Subroutines: False\n",
      "  Interrupt: False\n",
      "  Link Provided: None\n",
      "  MU Provided: None\n",
      "  Number of Printed Subroutines: None\n",
      "  On Encounter Effect: False\n",
      "  Performs Trace: False\n",
      "  Recurring Credits Provided: None\n",
      "  Rez Effect: False\n",
      "  Trash Ability: False\n"
     ]
    }
   ],
   "source": [
    "print(registry.cards['kate_mac_mccaffrey_digital_tinker'].to_string())"
   ]
  },
  {
   "cell_type": "code",
   "execution_count": 4,
   "metadata": {},
   "outputs": [],
   "source": [
    "cards = registry.get_all_cards()"
   ]
  },
  {
   "cell_type": "code",
   "execution_count": 5,
   "metadata": {},
   "outputs": [],
   "source": [
    "unique_ids = set()\n",
    "with open(\"../../../assets/decks/runner/shaper_starter.json\", 'r') as file:\n",
    "    deck_data = json.load(file)\n",
    "    for card in deck_data['cards']:\n",
    "        unique_ids.add(card['id'])\n",
    "with open(\"../../../assets/decks/corp/weyland_starter.json\", 'r') as file:\n",
    "    deck_data = json.load(file)\n",
    "    for card in deck_data['cards']:\n",
    "        unique_ids.add(card['id'])\n"
   ]
  },
  {
   "cell_type": "code",
   "execution_count": 9,
   "metadata": {},
   "outputs": [
    {
     "data": {
      "text/plain": [
       "39"
      ]
     },
     "execution_count": 9,
     "metadata": {},
     "output_type": "execute_result"
    }
   ],
   "source": [
    "unique_ids.__len__()"
   ]
  },
  {
   "cell_type": "code",
   "execution_count": 8,
   "metadata": {},
   "outputs": [],
   "source": [
    "with open(f'../../../assets/cards/core_cards.txt', 'w') as f:\n",
    "    for card in cards:\n",
    "        if card.id in unique_ids:\n",
    "            f.write(card.to_string()+\"\\n\\n\")"
   ]
  },
  {
   "cell_type": "code",
   "execution_count": null,
   "metadata": {},
   "outputs": [],
   "source": []
  }
 ],
 "metadata": {
  "kernelspec": {
   "display_name": "Python 3",
   "language": "python",
   "name": "python3"
  },
  "language_info": {
   "codemirror_mode": {
    "name": "ipython",
    "version": 3
   },
   "file_extension": ".py",
   "mimetype": "text/x-python",
   "name": "python",
   "nbconvert_exporter": "python",
   "pygments_lexer": "ipython3",
   "version": "3.12.4"
  }
 },
 "nbformat": 4,
 "nbformat_minor": 2
}
