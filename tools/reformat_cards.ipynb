{
 "cells": [
  {
   "cell_type": "code",
   "execution_count": null,
   "metadata": {},
   "outputs": [],
   "source": [
    "import json\n",
    "\n",
    "# Input and output file paths\n",
    "input_file = '../assets/cards/core_set.json'\n",
    "output_file = 'output.json'\n",
    "\n",
    "# List of attributes to keep\n",
    "needed_attributes = ['id', 'name', 'email']  # Modify this list as needed\n",
    "\n",
    "# Read the input JSON file\n",
    "with open(input_file, 'r') as f:\n",
    "    data = json.load(f)\n",
    "\n",
    "# Process and filter the data\n",
    "filtered_data = []\n",
    "for obj in data:\n",
    "    filtered_obj = {attr: obj[attr] for attr in needed_attributes if attr in obj}\n",
    "    filtered_data.append(filtered_obj)\n",
    "\n",
    "# Write the filtered data to the output JSON file\n",
    "with open(output_file, 'w') as f:\n",
    "    json.dump(filtered_data, f, indent=2)\n",
    "\n",
    "print(f\"Processed data has been written to {output_file}\")"
   ]
  }
 ],
 "metadata": {
  "language_info": {
   "name": "python"
  }
 },
 "nbformat": 4,
 "nbformat_minor": 2
}
